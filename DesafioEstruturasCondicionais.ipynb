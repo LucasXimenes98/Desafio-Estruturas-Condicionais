{
  "nbformat": 4,
  "nbformat_minor": 0,
  "metadata": {
    "colab": {
      "provenance": [],
      "authorship_tag": "ABX9TyNobHXsRxEU/wTGyPVUpIvU",
      "include_colab_link": true
    },
    "kernelspec": {
      "name": "python3",
      "display_name": "Python 3"
    },
    "language_info": {
      "name": "python"
    }
  },
  "cells": [
    {
      "cell_type": "markdown",
      "metadata": {
        "id": "view-in-github",
        "colab_type": "text"
      },
      "source": [
        "<a href=\"https://colab.research.google.com/github/LucasXimenes98/Desafio-Estruturas-Condicionais/blob/main/DesafioEstruturasCondicionais.ipynb\" target=\"_parent\"><img src=\"https://colab.research.google.com/assets/colab-badge.svg\" alt=\"Open In Colab\"/></a>"
      ]
    },
    {
      "cell_type": "code",
      "execution_count": null,
      "metadata": {
        "id": "XoGL6Dh-1fJg"
      },
      "outputs": [],
      "source": [
        "# Recebendo o salário do colaborador\n",
        "salario_atual = float(input(\"Digite o salário atual do colaborador: R$ \"))\n",
        "\n",
        "# Definindo as faixas de reajuste e seus respectivos percentuais\n",
        "faixas_reajuste = [\n",
        "    (280, 0.20),\n",
        "    (700, 0.15),\n",
        "    (1500, 0.10),\n",
        "    (float('inf'), 0.05)\n",
        "]\n",
        "\n",
        "# Percentual de inflação no período\n",
        "inflacao = 0.038\n",
        "\n",
        "# Determinando o percentual de aumento conforme o salário atual\n",
        "percentual_aumento = 0\n",
        "for faixa, percentual in faixas_reajuste:\n",
        "    if salario_atual <= faixa:\n",
        "        percentual_aumento = percentual\n",
        "        break\n",
        "\n",
        "# Calculando o novo salário e o valor do aumento\n",
        "aumento = salario_atual * percentual_aumento\n",
        "novo_salario = salario_atual + aumento\n",
        "\n",
        "# Calculando o valor do aumento real, descontado a inflação\n",
        "aumento_real = aumento - (aumento * inflacao)\n",
        "\n",
        "# Exibindo os resultados\n",
        "print(\"\\nSalário antes do reajuste: R$\", salario_atual)\n",
        "print(\"Percentual de aumento aplicado: {}%\".format(percentual_aumento * 100))\n",
        "print(\"Valor do aumento: R$\", aumento)\n",
        "print(\"Novo salário após o aumento: R$\", novo_salario)\n",
        "print(\"Valor do aumento real, descontado a inflação: R$\", aumento_real)"
      ]
    }
  ]
}